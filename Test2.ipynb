{
  "nbformat": 4,
  "nbformat_minor": 5,
  "metadata": {
    "kernelspec": {
      "name": "python385jvsc74a57bd0d6b2170ab8203be407700f26fc722b0d6f638698764890402b66f46f5e58f8df",
      "display_name": "Python 3.8.5 64-bit ('base': conda)"
    },
    "language_info": {
      "codemirror_mode": {
        "name": "ipython",
        "version": 3
      },
      "file_extension": ".py",
      "mimetype": "text/x-python",
      "name": "python",
      "nbconvert_exporter": "python",
      "pygments_lexer": "ipython3",
      "version": "3.8.5"
    },
    "colab": {
      "name": "homework2_v2.ipynb",
      "provenance": [],
      "collapsed_sections": []
    },
    "accelerator": "GPU"
  },
  "cells": [
    {
      "cell_type": "code",
      "metadata": {
        "deletable": false,
        "editable": false,
        "nbgrader": {
          "cell_type": "code",
          "checksum": "7fa3947074677d45b51ffb79ae4115a6",
          "grade": false,
          "grade_id": "cell-13a7377ea4df0081",
          "locked": true,
          "schema_version": 3,
          "solution": false,
          "task": false
        },
        "id": "g1kfC4-Hgs_e"
      },
      "source": [
        "import numpy as np #import numpy as usual\n",
        "from math import ceil, sqrt"
      ],
      "id": "g1kfC4-Hgs_e",
      "execution_count": 86,
      "outputs": []
    },
    {
      "cell_type": "markdown",
      "metadata": {
        "deletable": false,
        "editable": false,
        "nbgrader": {
          "cell_type": "markdown",
          "checksum": "e62715428d0c60c213e28fbc78300d38",
          "grade": false,
          "grade_id": "cell-9fe22ee93184795b",
          "locked": true,
          "schema_version": 3,
          "solution": false,
          "task": false
        },
        "id": "KPgUJS5Ags_k"
      },
      "source": [
        "##### ME 574 Spring 2021\n",
        "\n",
        "# Group Project: Baby Step Giant Step - Solving Discrete Logarithms\n",
        "\n",
        "1. The goal of this problem is to... bleh"
      ],
      "id": "KPgUJS5Ags_k"
    },
    {
      "cell_type": "code",
      "metadata": {
        "deletable": false,
        "nbgrader": {
          "cell_type": "code",
          "checksum": "f649d88b5ca29d3f158b4e6ec806db30",
          "grade": false,
          "grade_id": "cell-ae522fabd2e04292",
          "locked": false,
          "schema_version": 3,
          "solution": true,
          "task": false
        },
        "id": "42dS7qyogs_k"
      },
      "source": [
        "# Write python definitions for Baby Step Giant Step algorithm\n",
        "\n",
        "def bsgs(g, h, p):\n",
        "    '''\n",
        "    Solve for x in h = g^x mod p given a prime p.\n",
        "    If p is not prime, you shouldn't use BSGS anyway.\n",
        "    '''\n",
        "    N = ceil(sqrt(p - 1))  # phi(p) is p-1 if p is prime\n",
        "\n",
        "    # Store hashmap of g^{1...m} (mod p). Baby step.\n",
        "    tbl = {pow(g, i, p): i for i in range(N)}\n",
        "\n",
        "    # Precompute via Fermat's Little Theorem\n",
        "    c = pow(g, N * (p - 2), p)\n",
        "\n",
        "    # Search for an equivalence in the table. Giant step.\n",
        "    for j in range(N):\n",
        "        y = (h * pow(c, j, p)) % p\n",
        "        if y in tbl:\n",
        "            return j * N + tbl[y]\n",
        "\n",
        "    # Solution not found\n",
        "    return None\n"
      ],
      "id": "42dS7qyogs_k",
      "execution_count": 87,
      "outputs": []
    },
    {
      "cell_type": "code",
      "metadata": {
        "deletable": false,
        "editable": false,
        "nbgrader": {
          "cell_type": "code",
          "checksum": "8df3a6b35fc2bd3c46a844ff95c0dce0",
          "grade": true,
          "grade_id": "cell-46f0bb02fec5241d",
          "locked": true,
          "points": 2,
          "schema_version": 3,
          "solution": false,
          "task": false
        },
        "id": "y7wGGyzdgs_l"
      },
      "source": [
        "# Test bsgs\n",
        "print(bsgs(7894352216, 355407489, 604604729))\n",
        "print(type(7894352216))\n",
        "g = 5*np.ones(2)\n",
        "g = int(g[0])\n",
        "print(type(g))\n",
        "h = 20*np.ones(2)\n",
        "h = int(h[0])\n",
        "p = 53*np.ones(2)\n",
        "p = int(p[0])\n",
        "answer = np.zeros(np.size(h))\n",
        "print(answer)\n",
        "#print(len(h))\n",
        "#print(g[0])\n",
        "answer = bsgs(g, h, p)\n",
        "#for k in range(len(h)):\n",
        "#    answer(k) = bsgs(g(k), h(k), p(k))\n",
        "print(answer)\n"
      ],
      "id": "y7wGGyzdgs_l",
      "execution_count": 89,
      "outputs": [
        {
          "output_type": "stream",
          "name": "stdout",
          "text": [
            "102900819\n<class 'int'>\n<class 'int'>\n[0.]\n11\n"
          ]
        }
      ]
    },
    {
      "cell_type": "code",
      "execution_count": 92,
      "metadata": {},
      "outputs": [
        {
          "output_type": "stream",
          "name": "stdout",
          "text": [
            "[11. 11.]\n"
          ]
        }
      ],
      "source": [
        "# Test bsgs to see if can create a small for loop for serial computation\n",
        "g = 5*np.ones(2)\n",
        "h = 20*np.ones(2)\n",
        "p = 53*np.ones(2)\n",
        "answer = np.zeros(np.size(h))\n",
        "for k in range(len(h)):\n",
        "    a = int(g[k])\n",
        "    b = int(h[k])\n",
        "    c = int(p[k])\n",
        "    answer[k] = bsgs(a,b,c)\n",
        "\n",
        "print(answer)"
      ]
    },
    {
      "cell_type": "code",
      "execution_count": 96,
      "metadata": {},
      "outputs": [
        {
          "output_type": "stream",
          "name": "stdout",
          "text": [
            "[11. 11.]\nTime elapsed for serial vector size 2: 0.49686431884765625 ms\n"
          ]
        }
      ],
      "source": [
        "# Test bsgs with timing\n",
        "import time\n",
        "t0 = time.time()\n",
        "\n",
        "\n",
        "g = 5*np.ones(2)\n",
        "h = 20*np.ones(2)\n",
        "p = 53*np.ones(2)\n",
        "answer = np.zeros(np.size(h))\n",
        "for k in range(len(h)):\n",
        "    a = int(g[k])\n",
        "    b = int(h[k])\n",
        "    c = int(p[k])\n",
        "    answer[k] = bsgs(a,b,c)\n",
        "\n",
        "print(answer)\n",
        "\n",
        "serial_elapsed = (time.time() - t0)*1000 # seconds to ms]\n",
        "print(\"Time elapsed for serial vector size 2:\", serial_elapsed, \"ms\")"
      ]
    },
    {
      "cell_type": "code",
      "execution_count": 97,
      "metadata": {},
      "outputs": [
        {
          "output_type": "stream",
          "name": "stdout",
          "text": [
            "[11. 11. 11. 11. 11. 11. 11. 11. 11. 11. 11. 11. 11. 11. 11. 11. 11. 11.\n 11. 11. 11. 11. 11. 11. 11. 11. 11. 11. 11. 11. 11. 11.]\nTime elapsed for serial vector size 32: 1.4882087707519531 ms\n"
          ]
        }
      ],
      "source": [
        "# Test bsgs with timing - vector size 32\n",
        "import time\n",
        "t0 = time.time()\n",
        "\n",
        "\n",
        "g = 5*np.ones(32)\n",
        "h = 20*np.ones(32)\n",
        "p = 53*np.ones(32)\n",
        "answer = np.zeros(np.size(h))\n",
        "for k in range(len(h)):\n",
        "    a = int(g[k])\n",
        "    b = int(h[k])\n",
        "    c = int(p[k])\n",
        "    answer[k] = bsgs(a,b,c)\n",
        "\n",
        "#print(answer)\n",
        "\n",
        "serial_elapsed = (time.time() - t0)*1000 # seconds to ms]\n",
        "print(\"Time elapsed for serial vector size 32:\", serial_elapsed, \"ms\")"
      ]
    },
    {
      "cell_type": "code",
      "execution_count": 99,
      "metadata": {},
      "outputs": [
        {
          "output_type": "stream",
          "name": "stdout",
          "text": [
            "Time elapsed for serial vector size 664: 6.448030471801758 ms\n"
          ]
        }
      ],
      "source": [
        "# Test bsgs with timing - vector size 664 (b/c 64 was same timing as 32?)\n",
        "import time\n",
        "t0 = time.time()\n",
        "\n",
        "\n",
        "g = 5*np.ones(664)\n",
        "h = 20*np.ones(664)\n",
        "p = 53*np.ones(664)\n",
        "answer = np.zeros(np.size(h))\n",
        "for k in range(len(h)):\n",
        "    a = int(g[k])\n",
        "    b = int(h[k])\n",
        "    c = int(p[k])\n",
        "    answer[k] = bsgs(a,b,c)\n",
        "\n",
        "#print(answer)\n",
        "\n",
        "serial_elapsed = (time.time() - t0)*1000 # seconds to ms]\n",
        "print(\"Time elapsed for serial vector size 664:\", serial_elapsed, \"ms\")"
      ]
    },
    {
      "cell_type": "markdown",
      "metadata": {
        "deletable": false,
        "editable": false,
        "nbgrader": {
          "cell_type": "markdown",
          "checksum": "1347e01af040f2279102a74f6fce028a",
          "grade": false,
          "grade_id": "cell-142e68f1331bc4d8",
          "locked": true,
          "schema_version": 3,
          "solution": false,
          "task": false
        },
        "id": "lbOb3nd2gs_l"
      },
      "source": [
        "Attempt to parallelize system:"
      ],
      "id": "lbOb3nd2gs_l"
    },
    {
      "cell_type": "code",
      "metadata": {
        "deletable": false,
        "nbgrader": {
          "cell_type": "code",
          "checksum": "705e86d81b9f35014d7cd6a58c9cca0f",
          "grade": false,
          "grade_id": "cell-3bea37ed3d9d0e26",
          "locked": false,
          "schema_version": 3,
          "solution": true,
          "task": false
        },
        "id": "2X3w_9Fygs_l"
      },
      "source": [
        "# def Help\n"
      ],
      "id": "2X3w_9Fygs_l",
      "execution_count": 32,
      "outputs": []
    },
    {
      "cell_type": "code",
      "metadata": {
        "deletable": false,
        "editable": false,
        "nbgrader": {
          "cell_type": "code",
          "checksum": "a223b04d2c6eb5433c7785eb64b9dc25",
          "grade": true,
          "grade_id": "cell-8f7bbe2b54d5ea66",
          "locked": true,
          "points": 2,
          "schema_version": 3,
          "solution": false,
          "task": false
        },
        "id": "aliJjhNGgs_m"
      },
      "source": [
        "# test Help"
      ],
      "id": "aliJjhNGgs_m",
      "execution_count": 33,
      "outputs": []
    }
  ]
}